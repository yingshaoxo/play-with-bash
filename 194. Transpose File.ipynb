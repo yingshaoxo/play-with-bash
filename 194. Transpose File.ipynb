{
 "cells": [
  {
   "cell_type": "markdown",
   "id": "e34f6dc7-1e2e-4714-ab0f-24a1f69a4d37",
   "metadata": {},
   "source": [
    "# 2022/12/26"
   ]
  },
  {
   "cell_type": "markdown",
   "id": "62afbbec-5e03-4d30-a2d3-546d6b4d3832",
   "metadata": {},
   "source": [
    "https://leetcode.com/problems/transpose-file\n",
    "\n",
    "\n",
    "Success\n",
    "\n",
    "___\n",
    "\n",
    "Bash script sucks, especially when you do logic check and data structure operations.\n",
    "\n",
    "___\n",
    "\n",
    "```bash\n",
    "#2022/12/26 04:56\n",
    "\n",
    "text=$(cat file.txt);\n",
    "if [[ $text =~ \"\\n\" ]]; then\n",
    "    #echo \"It's there!\"\n",
    "    IFS=$'\\n' read -d '' -r -a lines <<< $(echo -e $(cat file.txt))\n",
    "else\n",
    "    #echo \"It's not there!\"\n",
    "    IFS=$'\\n' read -d '' -r -a lines < file.txt\n",
    "fi\n",
    "\n",
    "if [[ ${#lines[@]} > 0 ]]; then\n",
    "    IFS=' ' read -r -a words_list <<< \"${lines[0]}\"\n",
    "    if [[ ${#words_list[@]} > 0 ]]; then\n",
    "        for ii in \"${!words_list[@]}\"\n",
    "        do\n",
    "            if [[ $ii != $((${#words_list[@]})) ]]; then\n",
    "                if [[ $ii == 0 ]]; then\n",
    "                    echo -n \"\"\n",
    "                else\n",
    "                    echo -n \"\\n\"\n",
    "                fi\n",
    "            fi\n",
    "\n",
    "            for i in \"${!lines[@]}\"\n",
    "            do\n",
    "                IFS=' ' read -r -a words_list <<< \"${lines[$i]}\"\n",
    "                echo -n \"${words_list[$ii]}\"\n",
    "\n",
    "                if [[ $i != $((${#lines[@]} - 1)) ]]; then\n",
    "                    echo -n \" \"\n",
    "                fi    \n",
    "            done\n",
    "        done\n",
    "    fi\n",
    "fi    \n",
    "\n",
    "#2022/12/26 06:36\n",
    "```"
   ]
  },
  {
   "cell_type": "markdown",
   "id": "b2e52989-7280-4d5b-8aee-e06300697eaa",
   "metadata": {},
   "source": [
    "# Env"
   ]
  },
  {
   "cell_type": "markdown",
   "id": "bcdcef7e-7f7c-49a2-9ede-4f1415f7e832",
   "metadata": {},
   "source": [
    "```bash\n",
    "cat <<EOT >> file.txt\n",
    "a\n",
    "EOT\n",
    "\n",
    "#cat file.txt\n",
    "\n",
    "text=$(cat file.txt);\n",
    "if [[ $text =~ \"\\n\" ]]; then\n",
    "    #echo \"It's there!\"\n",
    "    IFS=$'\\n' read -d '' -r -a lines <<< $(echo -e $(cat file.txt))\n",
    "else\n",
    "    #echo \"It's not there!\"\n",
    "    IFS=$'\\n' read -d '' -r -a lines < file.txt\n",
    "fi\n",
    "\n",
    "echo length: ${#lines[@]}\n",
    "echo 1.${lines[0]}\n",
    "echo 2.${lines[1]}\n",
    "echo \"____\\n\"\n",
    "#exit\n",
    "```"
   ]
  },
  {
   "cell_type": "code",
   "execution_count": null,
   "id": "580d3996-6e47-469b-a4a2-c6ac2e52b076",
   "metadata": {},
   "outputs": [],
   "source": []
  }
 ],
 "metadata": {
  "kernelspec": {
   "display_name": "Bash",
   "language": "bash",
   "name": "bash"
  },
  "language_info": {
   "codemirror_mode": "shell",
   "file_extension": ".sh",
   "mimetype": "text/x-sh",
   "name": "bash"
  }
 },
 "nbformat": 4,
 "nbformat_minor": 5
}
